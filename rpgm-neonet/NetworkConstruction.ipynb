{
 "cells": [
  {
   "cell_type": "code",
   "execution_count": 1,
   "metadata": {
    "collapsed": false
   },
   "outputs": [],
   "source": [
    "import pypsa\n",
    "import numpy as np\n",
    "import pandas as pd\n",
    "import os\n",
    "import matplotlib\n",
    "%matplotlib notebook\n",
    "import matplotlib.pyplot as plt\n",
    "from rpgm_algo import RpgAlgorithm\n"
   ]
  },
  {
   "cell_type": "code",
   "execution_count": 2,
   "metadata": {
    "collapsed": true
   },
   "outputs": [],
   "source": [
    "class Grid(pypsa.Network):\n",
    "    def __init__(self, csv_folder_name=None, **kwargs):\n",
    "        super(Grid, self).__init__(csv_folder_name, **kwargs)\n",
    "\n",
    "    def __str__(self):\n",
    "        return \"Overriden class.\""
   ]
  },
  {
   "cell_type": "code",
   "execution_count": 3,
   "metadata": {
    "collapsed": false
   },
   "outputs": [],
   "source": [
    "network = Grid(csv_folder_name=\"examples/scigrid-de/scigrid-with-load-gen-trafos/\")"
   ]
  },
  {
   "cell_type": "code",
   "execution_count": 4,
   "metadata": {
    "collapsed": false
   },
   "outputs": [],
   "source": [
    "points = np.array(network.buses[[\"x\", \"y\"]])"
   ]
  },
  {
   "cell_type": "code",
   "execution_count": null,
   "metadata": {
    "collapsed": false
   },
   "outputs": [],
   "source": [
    "for idx in np.arange(1, 600, 30):\n",
    "\n",
    "    # grow small MV network\n",
    "    # this can be iterated \n",
    "    # TODO: determine proper parameters ...\n",
    "    # TODO: choose buses to connect to ...\n",
    "\n",
    "    #choose a point and construct random graph around it\n",
    "    #idx = 5\n",
    "\n",
    "    print idx, points[idx]\n",
    "\n",
    "    g = RpgAlgorithm()\n",
    "    g.debug = False\n",
    "    g.set_params(n=11, n0=10, r=0, p=0., q=0.)\n",
    "    # start with random locations and replace first row with points[idx]\n",
    "    # first node will be connected via a transformer\n",
    "    connector = 0\n",
    "    coords = np.zeros([g.n, 2])\n",
    "    coords[0] = points[idx]\n",
    "    for i in xrange(1, g.n):\n",
    "        coords[i] = g._get_coords(sampling=\"uniform\", centre=points[idx], boundaries=[.5, .5])\n",
    "    g.setup_locations(sampling=\"data\", locations=coords)\n",
    "\n",
    "    g.initialise()\n",
    "    g.grow()\n",
    "\n",
    "    # add g.n new nodes\n",
    "    # add links between them\n",
    "    # add transformer between points[idx] and connector\n",
    "\n",
    "    for j in xrange(g.n):\n",
    "        network.add(\"Bus\", \n",
    "                    \"MV{}-{}\".format(idx, j),\n",
    "                    v_nom=10, \n",
    "                    x=coords[j, 0], \n",
    "                    y=coords[j, 1])\n",
    "        print \"MV{}-{}\".format(idx, j)\n",
    "\n",
    "        network.add(\"Load\",\n",
    "                \"Load MV{}-{}\".format(idx, j),\n",
    "                bus=\"MV{}-{}\".format(idx, j),\n",
    "                p_set=10)\n",
    "\n",
    "    for i, edge in enumerate(g.edgelist()):\n",
    "        network.add(\"Line\", \n",
    "                    \"MV{}-Line{}\".format(idx, i), \n",
    "                    x=0.01, \n",
    "                    r=0.00001, \n",
    "                    s_nom=60,\n",
    "                    bus0=\"MV{}-{}\".format(idx, edge[0]),\n",
    "                    bus1=\"MV{}-{}\".format(idx, edge[1]))\n",
    "\n",
    "    network.add(\"Transformer\", \n",
    "                \"Transformer MV{}\".format(idx), \n",
    "                bus0=idx,\n",
    "                bus1=\"MV{}-{}\".format(idx, connector),\n",
    "                x=0.1,\n",
    "                x_pu=0.00005)"
   ]
  },
  {
   "cell_type": "code",
   "execution_count": 5,
   "metadata": {
    "collapsed": false,
    "scrolled": false
   },
   "outputs": [],
   "source": [
    "network.determine_network_topology()"
   ]
  },
  {
   "cell_type": "code",
   "execution_count": 7,
   "metadata": {
    "collapsed": false
   },
   "outputs": [],
   "source": [
    "network.consistency_check()"
   ]
  },
  {
   "cell_type": "code",
   "execution_count": 8,
   "metadata": {
    "collapsed": false
   },
   "outputs": [],
   "source": [
    "contingency_factor = 0.7\n",
    "\n",
    "network.lines.s_nom = contingency_factor*network.lines.s_nom\n",
    "\n",
    "#There are some infeasibilities without small extensions\n",
    "for line_name in [\"316\",\"527\",\"602\"]:\n",
    "    network.lines.loc[line_name,\"s_nom\"] = 1200"
   ]
  },
  {
   "cell_type": "code",
   "execution_count": 11,
   "metadata": {
    "collapsed": false
   },
   "outputs": [
    {
     "data": {
      "text/plain": [
       "('ok', 'optimal')"
      ]
     },
     "execution_count": 11,
     "metadata": {},
     "output_type": "execute_result"
    }
   ],
   "source": [
    "network.now = network.snapshots[0]\n",
    "\n",
    "solver_name = \"glpk\"\n",
    "\n",
    "network.lopf()\n",
    "\n",
    "# somehow, the added transformer does not seem to work?\n"
   ]
  },
  {
   "cell_type": "code",
   "execution_count": 13,
   "metadata": {
    "collapsed": false
   },
   "outputs": [
    {
     "data": {
      "text/plain": [
       "(<matplotlib.collections.PathCollection at 0x7f17fc96e0d0>,\n",
       " <matplotlib.collections.LineCollection at 0x7f17fc96eb50>)"
      ]
     },
     "execution_count": 13,
     "metadata": {},
     "output_type": "execute_result"
    }
   ],
   "source": [
    "colors = np.isnan(network.branches()[\"length\"]).map(lambda v: \"b\" if v else \"orange\")\n",
    "colors = network.lines.voltage.map(lambda v: \"c\" if v == 220000 else \"orange\" if v == 380000 else \"k\")\n",
    "\n",
    "v_color = np.abs(network.buses_t.p.loc[network.now])\n",
    "\n",
    "network.plot(bus_sizes=v_color)"
   ]
  }
 ],
 "metadata": {
  "kernelspec": {
   "display_name": "Python 2",
   "language": "python",
   "name": "python2"
  },
  "language_info": {
   "codemirror_mode": {
    "name": "ipython",
    "version": 2
   },
   "file_extension": ".py",
   "mimetype": "text/x-python",
   "name": "python",
   "nbconvert_exporter": "python",
   "pygments_lexer": "ipython2",
   "version": "2.7.11"
  }
 },
 "nbformat": 4,
 "nbformat_minor": 0
}
